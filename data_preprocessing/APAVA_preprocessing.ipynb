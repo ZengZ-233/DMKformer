{
 "nbformat": 4,
 "nbformat_minor": 0,
 "metadata": {
  "colab": {
   "provenance": [],
   "authorship_tag": "ABX9TyNe8pcEyzi3pl5M5WFhQh2o"
  },
  "kernelspec": {
   "name": "python3",
   "display_name": "Python 3 (ipykernel)",
   "language": "python"
  },
  "language_info": {
   "name": "python"
  }
 },
 "cells": [
  {
   "cell_type": "code",
   "metadata": {
    "id": "oD1qjs_ntE_p",
    "executionInfo": {
     "status": "ok",
     "timestamp": 1679030666762,
     "user_tz": 240,
     "elapsed": 3,
     "user": {
      "displayName": "Lucian",
      "userId": "17113640720459928730"
     }
    },
    "ExecuteTime": {
     "end_time": "2024-10-17T14:14:22.706789Z",
     "start_time": "2024-10-17T14:14:22.694546Z"
    }
   },
   "source": [
    "import os\n",
    "import numpy as np\n",
    "import scipy.io as sio\n",
    "from sklearn.utils import shuffle"
   ],
   "outputs": [],
   "execution_count": 8
  },
  {
   "cell_type": "markdown",
   "source": [
    "## Official script"
   ],
   "metadata": {
    "collapsed": false
   }
  },
  {
   "cell_type": "code",
   "source": [
    "filenames = []\n",
    "for filename in os.listdir(r\"E:\\Subject\\Robot_study\\Big\\Medformer-main\\APAVA/\"):\n",
    "  filenames.append(filename)"
   ],
   "metadata": {
    "id": "HssqLKxCVbeo",
    "executionInfo": {
     "status": "ok",
     "timestamp": 1679030740997,
     "user_tz": 240,
     "elapsed": 660,
     "user": {
      "displayName": "Lucian",
      "userId": "17113640720459928730"
     }
    },
    "ExecuteTime": {
     "end_time": "2024-10-17T14:14:22.737813Z",
     "start_time": "2024-10-17T14:14:22.728608Z"
    }
   },
   "outputs": [],
   "execution_count": 9
  },
  {
   "cell_type": "code",
   "source": [
    "filenames.sort()\n",
    "# filenames"
   ],
   "metadata": {
    "id": "xQJTR4l-WGfC",
    "executionInfo": {
     "status": "ok",
     "timestamp": 1679030742838,
     "user_tz": 240,
     "elapsed": 531,
     "user": {
      "displayName": "Lucian",
      "userId": "17113640720459928730"
     }
    },
    "ExecuteTime": {
     "end_time": "2024-10-17T14:14:22.752985Z",
     "start_time": "2024-10-17T14:14:22.741468Z"
    }
   },
   "outputs": [],
   "execution_count": 10
  },
  {
   "cell_type": "code",
   "source": [
    "feature_path = 'Feature'\n",
    "if not os.path.exists(feature_path):\n",
    "    os.mkdir(feature_path)"
   ],
   "metadata": {
    "collapsed": false,
    "ExecuteTime": {
     "end_time": "2024-10-17T14:14:22.768968Z",
     "start_time": "2024-10-17T14:14:22.754978Z"
    }
   },
   "outputs": [],
   "execution_count": 11
  },
  {
   "cell_type": "markdown",
   "source": [
    "#### Save feature"
   ],
   "metadata": {
    "id": "P7S8U9Vufwvl"
   }
  },
  {
   "cell_type": "code",
   "source": [
    "subseq_length = 256\n",
    "stride = 128  # Half of the subsequence length for half-overlapping\n",
    "for i in range(len(filenames)):\n",
    "    # print('Dataset/'+filename)\n",
    "    path = r\"E:\\Subject\\Robot_study\\Big\\Medformer-main\\APAVA/\" + filenames[i]\n",
    "    mat = sio.loadmat(path)\n",
    "    mat_np = mat['data']\n",
    "\n",
    "    # Get epoch number for each subject\n",
    "    epoch_num = len(mat_np[0,0][2][0])\n",
    "    print(\"Epoch number: \",epoch_num)\n",
    "    # Each epoch has shape (1280, 16)\n",
    "    temp = np.zeros((epoch_num, 1280, 16))\n",
    "    features = []\n",
    "    # Store in temp\n",
    "    for j in range(epoch_num):\n",
    "        temp[j] = np.transpose(mat_np[0,0][2][0][j])\n",
    "\n",
    "        # Calculate the number of subsequences that can be extracted\n",
    "        num_subsequences = (temp[j].shape[0] - subseq_length) // stride + 1\n",
    "        # Extract the subsequences\n",
    "        subsequences = [temp[j][i * stride : i * stride + subseq_length, :] for i in range(num_subsequences)]\n",
    "        feature = np.array(subsequences)\n",
    "        features.append(feature)\n",
    "    features = np.array(features).reshape((-1, subseq_length, 16))\n",
    "\n",
    "    print(f\"Filename: {filenames[i]}\")\n",
    "    print(f\"Patient ID: {i+1}\")\n",
    "    print(\"Raw data:\", temp.shape)\n",
    "    print(\"Segmented data\", features.shape)\n",
    "    np.save(feature_path + \"/feature_{:02d}.npy\".format(i+1),features)\n",
    "    print(\"Save feature_{:02d}.npy\".format(i+1))\n",
    "    print()"
   ],
   "metadata": {
    "colab": {
     "base_uri": "https://localhost:8080/"
    },
    "id": "-I4cEuRQWKEl",
    "executionInfo": {
     "status": "ok",
     "timestamp": 1679030775070,
     "user_tz": 240,
     "elapsed": 31311,
     "user": {
      "displayName": "Lucian",
      "userId": "17113640720459928730"
     }
    },
    "outputId": "3a3e8a50-a266-4a66-b3c8-09b8b7e30c8e",
    "ExecuteTime": {
     "end_time": "2024-10-17T14:15:33.391508Z",
     "start_time": "2024-10-17T14:15:33.333622Z"
    }
   },
   "outputs": [
    {
     "ename": "FileNotFoundError",
     "evalue": "[Errno 2] No such file or directory: 'E:\\\\Subject\\\\Robot_study\\\\Big\\\\Medformer-main\\\\APAVA/Feature.mat'",
     "output_type": "error",
     "traceback": [
      "\u001B[1;31m---------------------------------------------------------------------------\u001B[0m",
      "\u001B[1;31mPermissionError\u001B[0m                           Traceback (most recent call last)",
      "File \u001B[1;32mD:\\Miniconda\\envs\\pytorch\\lib\\site-packages\\scipy\\io\\matlab\\_mio.py:39\u001B[0m, in \u001B[0;36m_open_file\u001B[1;34m(file_like, appendmat, mode)\u001B[0m\n\u001B[0;32m     38\u001B[0m \u001B[38;5;28;01mtry\u001B[39;00m:\n\u001B[1;32m---> 39\u001B[0m     \u001B[38;5;28;01mreturn\u001B[39;00m \u001B[38;5;28;43mopen\u001B[39;49m\u001B[43m(\u001B[49m\u001B[43mfile_like\u001B[49m\u001B[43m,\u001B[49m\u001B[43m \u001B[49m\u001B[43mmode\u001B[49m\u001B[43m)\u001B[49m, \u001B[38;5;28;01mTrue\u001B[39;00m\n\u001B[0;32m     40\u001B[0m \u001B[38;5;28;01mexcept\u001B[39;00m \u001B[38;5;167;01mOSError\u001B[39;00m \u001B[38;5;28;01mas\u001B[39;00m e:\n\u001B[0;32m     41\u001B[0m     \u001B[38;5;66;03m# Probably \"not found\"\u001B[39;00m\n",
      "\u001B[1;31mPermissionError\u001B[0m: [Errno 13] Permission denied: 'E:\\\\Subject\\\\Robot_study\\\\Big\\\\Medformer-main\\\\APAVA/Feature'",
      "\nDuring handling of the above exception, another exception occurred:\n",
      "\u001B[1;31mFileNotFoundError\u001B[0m                         Traceback (most recent call last)",
      "Cell \u001B[1;32mIn[13], line 6\u001B[0m\n\u001B[0;32m      3\u001B[0m \u001B[38;5;28;01mfor\u001B[39;00m i \u001B[38;5;129;01min\u001B[39;00m \u001B[38;5;28mrange\u001B[39m(\u001B[38;5;28mlen\u001B[39m(filenames)):\n\u001B[0;32m      4\u001B[0m     \u001B[38;5;66;03m# print('Dataset/'+filename)\u001B[39;00m\n\u001B[0;32m      5\u001B[0m     path \u001B[38;5;241m=\u001B[39m \u001B[38;5;124mr\u001B[39m\u001B[38;5;124m\"\u001B[39m\u001B[38;5;124mE:\u001B[39m\u001B[38;5;124m\\\u001B[39m\u001B[38;5;124mSubject\u001B[39m\u001B[38;5;124m\\\u001B[39m\u001B[38;5;124mRobot_study\u001B[39m\u001B[38;5;124m\\\u001B[39m\u001B[38;5;124mBig\u001B[39m\u001B[38;5;124m\\\u001B[39m\u001B[38;5;124mMedformer-main\u001B[39m\u001B[38;5;124m\\\u001B[39m\u001B[38;5;124mAPAVA/\u001B[39m\u001B[38;5;124m\"\u001B[39m \u001B[38;5;241m+\u001B[39m filenames[i]\n\u001B[1;32m----> 6\u001B[0m     mat \u001B[38;5;241m=\u001B[39m \u001B[43msio\u001B[49m\u001B[38;5;241;43m.\u001B[39;49m\u001B[43mloadmat\u001B[49m\u001B[43m(\u001B[49m\u001B[43mpath\u001B[49m\u001B[43m)\u001B[49m\n\u001B[0;32m      7\u001B[0m     mat_np \u001B[38;5;241m=\u001B[39m mat[\u001B[38;5;124m'\u001B[39m\u001B[38;5;124mdata\u001B[39m\u001B[38;5;124m'\u001B[39m]\n\u001B[0;32m      9\u001B[0m     \u001B[38;5;66;03m# Get epoch number for each subject\u001B[39;00m\n",
      "File \u001B[1;32mD:\\Miniconda\\envs\\pytorch\\lib\\site-packages\\scipy\\io\\matlab\\_mio.py:225\u001B[0m, in \u001B[0;36mloadmat\u001B[1;34m(file_name, mdict, appendmat, **kwargs)\u001B[0m\n\u001B[0;32m     88\u001B[0m \u001B[38;5;250m\u001B[39m\u001B[38;5;124;03m\"\"\"\u001B[39;00m\n\u001B[0;32m     89\u001B[0m \u001B[38;5;124;03mLoad MATLAB file.\u001B[39;00m\n\u001B[0;32m     90\u001B[0m \n\u001B[1;32m   (...)\u001B[0m\n\u001B[0;32m    222\u001B[0m \u001B[38;5;124;03m    3.14159265+3.14159265j])\u001B[39;00m\n\u001B[0;32m    223\u001B[0m \u001B[38;5;124;03m\"\"\"\u001B[39;00m\n\u001B[0;32m    224\u001B[0m variable_names \u001B[38;5;241m=\u001B[39m kwargs\u001B[38;5;241m.\u001B[39mpop(\u001B[38;5;124m'\u001B[39m\u001B[38;5;124mvariable_names\u001B[39m\u001B[38;5;124m'\u001B[39m, \u001B[38;5;28;01mNone\u001B[39;00m)\n\u001B[1;32m--> 225\u001B[0m \u001B[38;5;28;01mwith\u001B[39;00m _open_file_context(file_name, appendmat) \u001B[38;5;28;01mas\u001B[39;00m f:\n\u001B[0;32m    226\u001B[0m     MR, _ \u001B[38;5;241m=\u001B[39m mat_reader_factory(f, \u001B[38;5;241m*\u001B[39m\u001B[38;5;241m*\u001B[39mkwargs)\n\u001B[0;32m    227\u001B[0m     matfile_dict \u001B[38;5;241m=\u001B[39m MR\u001B[38;5;241m.\u001B[39mget_variables(variable_names)\n",
      "File \u001B[1;32mD:\\Miniconda\\envs\\pytorch\\lib\\contextlib.py:135\u001B[0m, in \u001B[0;36m_GeneratorContextManager.__enter__\u001B[1;34m(self)\u001B[0m\n\u001B[0;32m    133\u001B[0m \u001B[38;5;28;01mdel\u001B[39;00m \u001B[38;5;28mself\u001B[39m\u001B[38;5;241m.\u001B[39margs, \u001B[38;5;28mself\u001B[39m\u001B[38;5;241m.\u001B[39mkwds, \u001B[38;5;28mself\u001B[39m\u001B[38;5;241m.\u001B[39mfunc\n\u001B[0;32m    134\u001B[0m \u001B[38;5;28;01mtry\u001B[39;00m:\n\u001B[1;32m--> 135\u001B[0m     \u001B[38;5;28;01mreturn\u001B[39;00m \u001B[38;5;28;43mnext\u001B[39;49m\u001B[43m(\u001B[49m\u001B[38;5;28;43mself\u001B[39;49m\u001B[38;5;241;43m.\u001B[39;49m\u001B[43mgen\u001B[49m\u001B[43m)\u001B[49m\n\u001B[0;32m    136\u001B[0m \u001B[38;5;28;01mexcept\u001B[39;00m \u001B[38;5;167;01mStopIteration\u001B[39;00m:\n\u001B[0;32m    137\u001B[0m     \u001B[38;5;28;01mraise\u001B[39;00m \u001B[38;5;167;01mRuntimeError\u001B[39;00m(\u001B[38;5;124m\"\u001B[39m\u001B[38;5;124mgenerator didn\u001B[39m\u001B[38;5;124m'\u001B[39m\u001B[38;5;124mt yield\u001B[39m\u001B[38;5;124m\"\u001B[39m) \u001B[38;5;28;01mfrom\u001B[39;00m \u001B[38;5;28;01mNone\u001B[39;00m\n",
      "File \u001B[1;32mD:\\Miniconda\\envs\\pytorch\\lib\\site-packages\\scipy\\io\\matlab\\_mio.py:17\u001B[0m, in \u001B[0;36m_open_file_context\u001B[1;34m(file_like, appendmat, mode)\u001B[0m\n\u001B[0;32m     15\u001B[0m \u001B[38;5;129m@contextmanager\u001B[39m\n\u001B[0;32m     16\u001B[0m \u001B[38;5;28;01mdef\u001B[39;00m \u001B[38;5;21m_open_file_context\u001B[39m(file_like, appendmat, mode\u001B[38;5;241m=\u001B[39m\u001B[38;5;124m'\u001B[39m\u001B[38;5;124mrb\u001B[39m\u001B[38;5;124m'\u001B[39m):\n\u001B[1;32m---> 17\u001B[0m     f, opened \u001B[38;5;241m=\u001B[39m \u001B[43m_open_file\u001B[49m\u001B[43m(\u001B[49m\u001B[43mfile_like\u001B[49m\u001B[43m,\u001B[49m\u001B[43m \u001B[49m\u001B[43mappendmat\u001B[49m\u001B[43m,\u001B[49m\u001B[43m \u001B[49m\u001B[43mmode\u001B[49m\u001B[43m)\u001B[49m\n\u001B[0;32m     18\u001B[0m     \u001B[38;5;28;01mtry\u001B[39;00m:\n\u001B[0;32m     19\u001B[0m         \u001B[38;5;28;01myield\u001B[39;00m f\n",
      "File \u001B[1;32mD:\\Miniconda\\envs\\pytorch\\lib\\site-packages\\scipy\\io\\matlab\\_mio.py:45\u001B[0m, in \u001B[0;36m_open_file\u001B[1;34m(file_like, appendmat, mode)\u001B[0m\n\u001B[0;32m     43\u001B[0m     \u001B[38;5;28;01mif\u001B[39;00m appendmat \u001B[38;5;129;01mand\u001B[39;00m \u001B[38;5;129;01mnot\u001B[39;00m file_like\u001B[38;5;241m.\u001B[39mendswith(\u001B[38;5;124m'\u001B[39m\u001B[38;5;124m.mat\u001B[39m\u001B[38;5;124m'\u001B[39m):\n\u001B[0;32m     44\u001B[0m         file_like \u001B[38;5;241m+\u001B[39m\u001B[38;5;241m=\u001B[39m \u001B[38;5;124m'\u001B[39m\u001B[38;5;124m.mat\u001B[39m\u001B[38;5;124m'\u001B[39m\n\u001B[1;32m---> 45\u001B[0m     \u001B[38;5;28;01mreturn\u001B[39;00m \u001B[38;5;28;43mopen\u001B[39;49m\u001B[43m(\u001B[49m\u001B[43mfile_like\u001B[49m\u001B[43m,\u001B[49m\u001B[43m \u001B[49m\u001B[43mmode\u001B[49m\u001B[43m)\u001B[49m, \u001B[38;5;28;01mTrue\u001B[39;00m\n\u001B[0;32m     46\u001B[0m \u001B[38;5;28;01melse\u001B[39;00m:\n\u001B[0;32m     47\u001B[0m     \u001B[38;5;28;01mraise\u001B[39;00m \u001B[38;5;167;01mOSError\u001B[39;00m(\n\u001B[0;32m     48\u001B[0m         \u001B[38;5;124m'\u001B[39m\u001B[38;5;124mReader needs file name or open file-like object\u001B[39m\u001B[38;5;124m'\u001B[39m\n\u001B[0;32m     49\u001B[0m     ) \u001B[38;5;28;01mfrom\u001B[39;00m \u001B[38;5;21;01me\u001B[39;00m\n",
      "\u001B[1;31mFileNotFoundError\u001B[0m: [Errno 2] No such file or directory: 'E:\\\\Subject\\\\Robot_study\\\\Big\\\\Medformer-main\\\\APAVA/Feature.mat'"
     ]
    }
   ],
   "execution_count": 13
  },
  {
   "cell_type": "markdown",
   "source": [
    "#### Save label"
   ],
   "metadata": {
    "id": "2xpj3Dy6fzQP"
   }
  },
  {
   "cell_type": "code",
   "source": [
    "AD_positive = [1,3,6,8,9,11,12,13,15,17,19,21]"
   ],
   "metadata": {
    "id": "nNALAnXTf4PP"
   },
   "outputs": [],
   "execution_count": null
  },
  {
   "cell_type": "code",
   "source": [
    "labels = np.zeros((23, 2))\n",
    "len(labels)"
   ],
   "metadata": {
    "colab": {
     "base_uri": "https://localhost:8080/"
    },
    "id": "029_wjrBf4Sv",
    "executionInfo": {
     "status": "ok",
     "timestamp": 1668385155506,
     "user_tz": 300,
     "elapsed": 163,
     "user": {
      "displayName": "Lucian",
      "userId": "17113640720459928730"
     }
    },
    "outputId": "85ab79bb-07c0-4f31-c71a-2915c2d9c988"
   },
   "outputs": [],
   "execution_count": null
  },
  {
   "cell_type": "code",
   "source": [
    "label_path = 'Label'\n",
    "if not os.path.exists(label_path):\n",
    "    os.mkdir(label_path)"
   ],
   "metadata": {
    "collapsed": false
   },
   "outputs": [],
   "execution_count": null
  },
  {
   "cell_type": "code",
   "source": [
    "for i in range(len(labels)):\n",
    "  # The first one is AD label (0 for healthy; 1 for AD patient)\n",
    "  # The second one is the subject label (the order of subject, ranging from 1 to 23.\n",
    "  labels[i][1] = i + 1\n",
    "  if i+1 in AD_positive:\n",
    "    labels[i][0] = 1\n",
    "  else:\n",
    "    labels[i][0] = 0"
   ],
   "metadata": {
    "id": "0XPwH3RJf4YU"
   },
   "outputs": [],
   "execution_count": null
  },
  {
   "cell_type": "code",
   "source": [
    "np.save(label_path + \"/label.npy\",labels)\n",
    "print(\"Save label\")"
   ],
   "metadata": {
    "colab": {
     "base_uri": "https://localhost:8080/"
    },
    "id": "LfEWtteafsYn",
    "executionInfo": {
     "status": "ok",
     "timestamp": 1668385694693,
     "user_tz": 300,
     "elapsed": 162,
     "user": {
      "displayName": "Lucian",
      "userId": "17113640720459928730"
     }
    },
    "outputId": "d6fa158a-b207-4c9b-c052-618a5982d526"
   },
   "outputs": [],
   "execution_count": null
  },
  {
   "cell_type": "markdown",
   "source": [
    "## Test"
   ],
   "metadata": {
    "id": "8sgVRTVgc-sj"
   }
  },
  {
   "cell_type": "code",
   "source": [
    "test = np.load(\"Feature/feature_20.npy\")"
   ],
   "metadata": {
    "id": "-KHmMve7WpK-"
   },
   "outputs": [],
   "execution_count": null
  },
  {
   "cell_type": "code",
   "source": [
    "test.shape"
   ],
   "metadata": {
    "colab": {
     "base_uri": "https://localhost:8080/"
    },
    "id": "5-9QTN7na61H",
    "executionInfo": {
     "status": "ok",
     "timestamp": 1668384485077,
     "user_tz": 300,
     "elapsed": 155,
     "user": {
      "displayName": "Lucian",
      "userId": "17113640720459928730"
     }
    },
    "outputId": "aa2290b1-e4dc-4124-8922-6eadbbded900"
   },
   "outputs": [],
   "execution_count": null
  },
  {
   "cell_type": "code",
   "source": [
    "test_label = np.load(\"Label/label.npy\")\n",
    "test_label"
   ],
   "metadata": {
    "colab": {
     "base_uri": "https://localhost:8080/"
    },
    "id": "fALGwF4ndcr0",
    "executionInfo": {
     "status": "ok",
     "timestamp": 1668385699716,
     "user_tz": 300,
     "elapsed": 177,
     "user": {
      "displayName": "Lucian",
      "userId": "17113640720459928730"
     }
    },
    "outputId": "7b5db342-5b77-48ff-bb9f-2298a879cdda"
   },
   "outputs": [],
   "execution_count": null
  },
  {
   "cell_type": "code",
   "source": [],
   "metadata": {
    "id": "P9btuIIviM84"
   },
   "outputs": [],
   "execution_count": null
  }
 ]
}
